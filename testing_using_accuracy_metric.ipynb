{
 "cells": [
  {
   "cell_type": "code",
   "execution_count": 1,
   "id": "c7d3bccb-0b0a-46d1-b1b6-b6392c45c7bb",
   "metadata": {
    "tags": []
   },
   "outputs": [],
   "source": [
    "import numpy as np\n",
    "import pandas as pd\n",
    "import matplotlib.pyplot as plt\n",
    "import seaborn as sns\n",
    "import mpl_toolkits #math toolkit\n",
    "from sklearn.model_selection import train_test_split\n",
    "from sklearn.metrics import mean_absolute_error, mean_squared_error, r2_score\n",
    "%matplotlib inline\n",
    "\n",
    "#sklearn is the stat library\n",
    "#matplotlib, seaborn is the plotting library"
   ]
  },
  {
   "cell_type": "code",
   "execution_count": 2,
   "id": "3a3d6e68-1d26-47a6-a0d6-a244f6273201",
   "metadata": {
    "tags": []
   },
   "outputs": [],
   "source": [
    "df =pd.read_csv('grocery_data.csv',index_col = False)"
   ]
  },
  {
   "cell_type": "code",
   "execution_count": 3,
   "id": "f5fb8c2b-63ea-47ea-bd4b-b801b7c0715b",
   "metadata": {
    "tags": []
   },
   "outputs": [
    {
     "data": {
      "text/html": [
       "<div>\n",
       "<style scoped>\n",
       "    .dataframe tbody tr th:only-of-type {\n",
       "        vertical-align: middle;\n",
       "    }\n",
       "\n",
       "    .dataframe tbody tr th {\n",
       "        vertical-align: top;\n",
       "    }\n",
       "\n",
       "    .dataframe thead th {\n",
       "        text-align: right;\n",
       "    }\n",
       "</style>\n",
       "<table border=\"1\" class=\"dataframe\">\n",
       "  <thead>\n",
       "    <tr style=\"text-align: right;\">\n",
       "      <th></th>\n",
       "      <th>Item_ID</th>\n",
       "      <th>Item_Name</th>\n",
       "      <th>Category</th>\n",
       "      <th>Date</th>\n",
       "      <th>Last_Month_Sales</th>\n",
       "      <th>Capacity</th>\n",
       "      <th>Last_Year_Sales</th>\n",
       "      <th>Temperature</th>\n",
       "      <th>Weather</th>\n",
       "      <th>Predicted_Sales</th>\n",
       "      <th>City_Tier</th>\n",
       "      <th>On_promotion</th>\n",
       "      <th>Outlet</th>\n",
       "    </tr>\n",
       "  </thead>\n",
       "  <tbody>\n",
       "    <tr>\n",
       "      <th>0</th>\n",
       "      <td>1</td>\n",
       "      <td>Lassi</td>\n",
       "      <td>Dairy</td>\n",
       "      <td>9-28-2023</td>\n",
       "      <td>82</td>\n",
       "      <td>109</td>\n",
       "      <td>1077</td>\n",
       "      <td>47</td>\n",
       "      <td>Sunny</td>\n",
       "      <td>81</td>\n",
       "      <td>2</td>\n",
       "      <td>0</td>\n",
       "      <td>1</td>\n",
       "    </tr>\n",
       "    <tr>\n",
       "      <th>1</th>\n",
       "      <td>1</td>\n",
       "      <td>Lassi</td>\n",
       "      <td>Dairy</td>\n",
       "      <td>9-28-2023</td>\n",
       "      <td>82</td>\n",
       "      <td>99</td>\n",
       "      <td>1068</td>\n",
       "      <td>46</td>\n",
       "      <td>Sunny</td>\n",
       "      <td>70</td>\n",
       "      <td>2</td>\n",
       "      <td>1</td>\n",
       "      <td>3</td>\n",
       "    </tr>\n",
       "    <tr>\n",
       "      <th>2</th>\n",
       "      <td>1</td>\n",
       "      <td>Lassi</td>\n",
       "      <td>Dairy</td>\n",
       "      <td>8-22-2023</td>\n",
       "      <td>71</td>\n",
       "      <td>99</td>\n",
       "      <td>1068</td>\n",
       "      <td>44</td>\n",
       "      <td>Rainy</td>\n",
       "      <td>69</td>\n",
       "      <td>1</td>\n",
       "      <td>1</td>\n",
       "      <td>2</td>\n",
       "    </tr>\n",
       "    <tr>\n",
       "      <th>3</th>\n",
       "      <td>1</td>\n",
       "      <td>Lassi</td>\n",
       "      <td>Dairy</td>\n",
       "      <td>8-22-2022</td>\n",
       "      <td>71</td>\n",
       "      <td>99</td>\n",
       "      <td>1068</td>\n",
       "      <td>41</td>\n",
       "      <td>Winter</td>\n",
       "      <td>70</td>\n",
       "      <td>1</td>\n",
       "      <td>1</td>\n",
       "      <td>2</td>\n",
       "    </tr>\n",
       "    <tr>\n",
       "      <th>4</th>\n",
       "      <td>1</td>\n",
       "      <td>Lassi</td>\n",
       "      <td>Dairy</td>\n",
       "      <td>8-18-2023</td>\n",
       "      <td>71</td>\n",
       "      <td>99</td>\n",
       "      <td>1068</td>\n",
       "      <td>33</td>\n",
       "      <td>Winter</td>\n",
       "      <td>70</td>\n",
       "      <td>2</td>\n",
       "      <td>1</td>\n",
       "      <td>2</td>\n",
       "    </tr>\n",
       "    <tr>\n",
       "      <th>...</th>\n",
       "      <td>...</td>\n",
       "      <td>...</td>\n",
       "      <td>...</td>\n",
       "      <td>...</td>\n",
       "      <td>...</td>\n",
       "      <td>...</td>\n",
       "      <td>...</td>\n",
       "      <td>...</td>\n",
       "      <td>...</td>\n",
       "      <td>...</td>\n",
       "      <td>...</td>\n",
       "      <td>...</td>\n",
       "      <td>...</td>\n",
       "    </tr>\n",
       "    <tr>\n",
       "      <th>12994</th>\n",
       "      <td>39</td>\n",
       "      <td>Olive Oil</td>\n",
       "      <td>Oils</td>\n",
       "      <td>18-01-2019</td>\n",
       "      <td>66</td>\n",
       "      <td>99</td>\n",
       "      <td>1062</td>\n",
       "      <td>52</td>\n",
       "      <td>Rainy</td>\n",
       "      <td>68</td>\n",
       "      <td>1</td>\n",
       "      <td>1</td>\n",
       "      <td>1</td>\n",
       "    </tr>\n",
       "    <tr>\n",
       "      <th>12995</th>\n",
       "      <td>39</td>\n",
       "      <td>Olive Oil</td>\n",
       "      <td>Oils</td>\n",
       "      <td>16-01-2019</td>\n",
       "      <td>74</td>\n",
       "      <td>99</td>\n",
       "      <td>1066</td>\n",
       "      <td>42</td>\n",
       "      <td>Sunny</td>\n",
       "      <td>82</td>\n",
       "      <td>1</td>\n",
       "      <td>0</td>\n",
       "      <td>1</td>\n",
       "    </tr>\n",
       "    <tr>\n",
       "      <th>12996</th>\n",
       "      <td>39</td>\n",
       "      <td>Olive Oil</td>\n",
       "      <td>Oils</td>\n",
       "      <td>15-01-2019</td>\n",
       "      <td>70</td>\n",
       "      <td>109</td>\n",
       "      <td>1079</td>\n",
       "      <td>39</td>\n",
       "      <td>Winter</td>\n",
       "      <td>72</td>\n",
       "      <td>1</td>\n",
       "      <td>1</td>\n",
       "      <td>1</td>\n",
       "    </tr>\n",
       "    <tr>\n",
       "      <th>12997</th>\n",
       "      <td>39</td>\n",
       "      <td>Olive Oil</td>\n",
       "      <td>Oils</td>\n",
       "      <td>15-01-2019</td>\n",
       "      <td>88</td>\n",
       "      <td>99</td>\n",
       "      <td>1077</td>\n",
       "      <td>38</td>\n",
       "      <td>Autumn</td>\n",
       "      <td>75</td>\n",
       "      <td>2</td>\n",
       "      <td>0</td>\n",
       "      <td>1</td>\n",
       "    </tr>\n",
       "    <tr>\n",
       "      <th>12998</th>\n",
       "      <td>39</td>\n",
       "      <td>Olive Oil</td>\n",
       "      <td>Oils</td>\n",
       "      <td>04-01-2019</td>\n",
       "      <td>64</td>\n",
       "      <td>109</td>\n",
       "      <td>1069</td>\n",
       "      <td>45</td>\n",
       "      <td>Rainy</td>\n",
       "      <td>68</td>\n",
       "      <td>2</td>\n",
       "      <td>0</td>\n",
       "      <td>2</td>\n",
       "    </tr>\n",
       "  </tbody>\n",
       "</table>\n",
       "<p>12999 rows × 13 columns</p>\n",
       "</div>"
      ],
      "text/plain": [
       "       Item_ID  Item_Name Category        Date  Last_Month_Sales  Capacity  \\\n",
       "0            1      Lassi    Dairy   9-28-2023                82       109   \n",
       "1            1      Lassi    Dairy   9-28-2023                82        99   \n",
       "2            1      Lassi    Dairy   8-22-2023                71        99   \n",
       "3            1      Lassi    Dairy   8-22-2022                71        99   \n",
       "4            1      Lassi    Dairy   8-18-2023                71        99   \n",
       "...        ...        ...      ...         ...               ...       ...   \n",
       "12994       39  Olive Oil     Oils  18-01-2019                66        99   \n",
       "12995       39  Olive Oil     Oils  16-01-2019                74        99   \n",
       "12996       39  Olive Oil     Oils  15-01-2019                70       109   \n",
       "12997       39  Olive Oil     Oils  15-01-2019                88        99   \n",
       "12998       39  Olive Oil     Oils  04-01-2019                64       109   \n",
       "\n",
       "       Last_Year_Sales  Temperature Weather  Predicted_Sales  City_Tier  \\\n",
       "0                 1077           47   Sunny               81          2   \n",
       "1                 1068           46   Sunny               70          2   \n",
       "2                 1068           44   Rainy               69          1   \n",
       "3                 1068           41  Winter               70          1   \n",
       "4                 1068           33  Winter               70          2   \n",
       "...                ...          ...     ...              ...        ...   \n",
       "12994             1062           52   Rainy               68          1   \n",
       "12995             1066           42   Sunny               82          1   \n",
       "12996             1079           39  Winter               72          1   \n",
       "12997             1077           38  Autumn               75          2   \n",
       "12998             1069           45   Rainy               68          2   \n",
       "\n",
       "       On_promotion  Outlet  \n",
       "0                 0       1  \n",
       "1                 1       3  \n",
       "2                 1       2  \n",
       "3                 1       2  \n",
       "4                 1       2  \n",
       "...             ...     ...  \n",
       "12994             1       1  \n",
       "12995             0       1  \n",
       "12996             1       1  \n",
       "12997             0       1  \n",
       "12998             0       2  \n",
       "\n",
       "[12999 rows x 13 columns]"
      ]
     },
     "execution_count": 3,
     "metadata": {},
     "output_type": "execute_result"
    }
   ],
   "source": [
    "df"
   ]
  },
  {
   "cell_type": "code",
   "execution_count": 4,
   "id": "af8bc952-4b2a-4a98-8d92-5698eadf5bd2",
   "metadata": {
    "tags": []
   },
   "outputs": [
    {
     "data": {
      "text/html": [
       "<div>\n",
       "<style scoped>\n",
       "    .dataframe tbody tr th:only-of-type {\n",
       "        vertical-align: middle;\n",
       "    }\n",
       "\n",
       "    .dataframe tbody tr th {\n",
       "        vertical-align: top;\n",
       "    }\n",
       "\n",
       "    .dataframe thead th {\n",
       "        text-align: right;\n",
       "    }\n",
       "</style>\n",
       "<table border=\"1\" class=\"dataframe\">\n",
       "  <thead>\n",
       "    <tr style=\"text-align: right;\">\n",
       "      <th></th>\n",
       "      <th>Item_ID</th>\n",
       "      <th>Last_Month_Sales</th>\n",
       "      <th>Capacity</th>\n",
       "      <th>Last_Year_Sales</th>\n",
       "      <th>Temperature</th>\n",
       "      <th>Predicted_Sales</th>\n",
       "      <th>City_Tier</th>\n",
       "      <th>On_promotion</th>\n",
       "      <th>Outlet</th>\n",
       "    </tr>\n",
       "  </thead>\n",
       "  <tbody>\n",
       "    <tr>\n",
       "      <th>count</th>\n",
       "      <td>12999.000000</td>\n",
       "      <td>12999.000000</td>\n",
       "      <td>12999.000000</td>\n",
       "      <td>12999.000000</td>\n",
       "      <td>12999.000000</td>\n",
       "      <td>12999.000000</td>\n",
       "      <td>12999.000000</td>\n",
       "      <td>12999.000000</td>\n",
       "      <td>12999.000000</td>\n",
       "    </tr>\n",
       "    <tr>\n",
       "      <th>mean</th>\n",
       "      <td>20.103546</td>\n",
       "      <td>74.034387</td>\n",
       "      <td>102.336487</td>\n",
       "      <td>1070.433187</td>\n",
       "      <td>40.517424</td>\n",
       "      <td>71.763136</td>\n",
       "      <td>1.999077</td>\n",
       "      <td>0.501192</td>\n",
       "      <td>1.996077</td>\n",
       "    </tr>\n",
       "    <tr>\n",
       "      <th>std</th>\n",
       "      <td>14.559883</td>\n",
       "      <td>9.001734</td>\n",
       "      <td>8.165074</td>\n",
       "      <td>8.215261</td>\n",
       "      <td>5.384592</td>\n",
       "      <td>8.510150</td>\n",
       "      <td>0.816904</td>\n",
       "      <td>0.500018</td>\n",
       "      <td>0.813167</td>\n",
       "    </tr>\n",
       "    <tr>\n",
       "      <th>min</th>\n",
       "      <td>1.000000</td>\n",
       "      <td>12.000000</td>\n",
       "      <td>40.000000</td>\n",
       "      <td>1009.000000</td>\n",
       "      <td>21.000000</td>\n",
       "      <td>9.000000</td>\n",
       "      <td>1.000000</td>\n",
       "      <td>0.000000</td>\n",
       "      <td>1.000000</td>\n",
       "    </tr>\n",
       "    <tr>\n",
       "      <th>25%</th>\n",
       "      <td>5.000000</td>\n",
       "      <td>70.000000</td>\n",
       "      <td>99.000000</td>\n",
       "      <td>1066.000000</td>\n",
       "      <td>37.000000</td>\n",
       "      <td>68.000000</td>\n",
       "      <td>1.000000</td>\n",
       "      <td>0.000000</td>\n",
       "      <td>1.000000</td>\n",
       "    </tr>\n",
       "    <tr>\n",
       "      <th>50%</th>\n",
       "      <td>19.000000</td>\n",
       "      <td>73.000000</td>\n",
       "      <td>99.000000</td>\n",
       "      <td>1070.000000</td>\n",
       "      <td>40.000000</td>\n",
       "      <td>71.000000</td>\n",
       "      <td>2.000000</td>\n",
       "      <td>1.000000</td>\n",
       "      <td>2.000000</td>\n",
       "    </tr>\n",
       "    <tr>\n",
       "      <th>75%</th>\n",
       "      <td>35.000000</td>\n",
       "      <td>81.000000</td>\n",
       "      <td>109.000000</td>\n",
       "      <td>1077.000000</td>\n",
       "      <td>44.000000</td>\n",
       "      <td>78.000000</td>\n",
       "      <td>3.000000</td>\n",
       "      <td>1.000000</td>\n",
       "      <td>3.000000</td>\n",
       "    </tr>\n",
       "    <tr>\n",
       "      <th>max</th>\n",
       "      <td>39.000000</td>\n",
       "      <td>107.000000</td>\n",
       "      <td>116.000000</td>\n",
       "      <td>1099.000000</td>\n",
       "      <td>60.000000</td>\n",
       "      <td>105.000000</td>\n",
       "      <td>3.000000</td>\n",
       "      <td>1.000000</td>\n",
       "      <td>3.000000</td>\n",
       "    </tr>\n",
       "  </tbody>\n",
       "</table>\n",
       "</div>"
      ],
      "text/plain": [
       "            Item_ID  Last_Month_Sales      Capacity  Last_Year_Sales  \\\n",
       "count  12999.000000      12999.000000  12999.000000     12999.000000   \n",
       "mean      20.103546         74.034387    102.336487      1070.433187   \n",
       "std       14.559883          9.001734      8.165074         8.215261   \n",
       "min        1.000000         12.000000     40.000000      1009.000000   \n",
       "25%        5.000000         70.000000     99.000000      1066.000000   \n",
       "50%       19.000000         73.000000     99.000000      1070.000000   \n",
       "75%       35.000000         81.000000    109.000000      1077.000000   \n",
       "max       39.000000        107.000000    116.000000      1099.000000   \n",
       "\n",
       "        Temperature  Predicted_Sales     City_Tier  On_promotion        Outlet  \n",
       "count  12999.000000     12999.000000  12999.000000  12999.000000  12999.000000  \n",
       "mean      40.517424        71.763136      1.999077      0.501192      1.996077  \n",
       "std        5.384592         8.510150      0.816904      0.500018      0.813167  \n",
       "min       21.000000         9.000000      1.000000      0.000000      1.000000  \n",
       "25%       37.000000        68.000000      1.000000      0.000000      1.000000  \n",
       "50%       40.000000        71.000000      2.000000      1.000000      2.000000  \n",
       "75%       44.000000        78.000000      3.000000      1.000000      3.000000  \n",
       "max       60.000000       105.000000      3.000000      1.000000      3.000000  "
      ]
     },
     "execution_count": 4,
     "metadata": {},
     "output_type": "execute_result"
    }
   ],
   "source": [
    "df.describe()"
   ]
  },
  {
   "cell_type": "code",
   "execution_count": 5,
   "id": "f84ef127-64b6-4869-8bd5-34c13f6fa71f",
   "metadata": {
    "tags": []
   },
   "outputs": [
    {
     "data": {
      "text/plain": [
       "Item_ID              int64\n",
       "Item_Name           object\n",
       "Category            object\n",
       "Date                object\n",
       "Last_Month_Sales     int64\n",
       "Capacity             int64\n",
       "Last_Year_Sales      int64\n",
       "Temperature          int64\n",
       "Weather             object\n",
       "Predicted_Sales      int64\n",
       "City_Tier            int64\n",
       "On_promotion         int64\n",
       "Outlet               int64\n",
       "dtype: object"
      ]
     },
     "execution_count": 5,
     "metadata": {},
     "output_type": "execute_result"
    }
   ],
   "source": [
    "df.dtypes"
   ]
  },
  {
   "cell_type": "code",
   "execution_count": 6,
   "id": "3a481d33-a57c-4182-bda2-f66b1b3b5157",
   "metadata": {},
   "outputs": [
    {
     "data": {
      "image/png": "[encoded data removed]",
      "text/plain": [
       "<Figure size 1000x800 with 2 Axes>"
      ]
     },
     "metadata": {},
     "output_type": "display_data"
    }
   ],
   "source": [
    "import seaborn as sns\n",
    "import matplotlib.pyplot as plt\n",
    "\n",
    "\n",
    "# Selecting numerical columns for correlation matrix\n",
    "numerical_cols = ['Last_Month_Sales', 'Capacity', 'Last_Year_Sales','City_Tier','On_promotion','Predicted_Sales'] #'City_Tier','On_promotion'\n",
    "correlation_matrix = df[numerical_cols].corr()\n",
    "\n",
    "# Create a heatmap\n",
    "plt.figure(figsize=(10, 8))\n",
    "heatmap = sns.heatmap(correlation_matrix, annot=True, fmt=\".2f\", cmap=\"coolwarm\", cbar=True)\n",
    "plt.title('Correlation Heatmap')\n",
    "plt.show()"
   ]
  },
  {
   "cell_type": "code",
   "execution_count": 7,
   "id": "467fbc26-cbed-4154-947f-4e93a8e4f153",
   "metadata": {
    "tags": []
   },
   "outputs": [],
   "source": [
    "df_original = df.copy()"
   ]
  },
  {
   "cell_type": "code",
   "execution_count": 8,
   "id": "17ce16c1-f1ba-4ecf-91b6-b4280c814260",
   "metadata": {
    "tags": []
   },
   "outputs": [
    {
     "data": {
      "text/html": [
       "<div>\n",
       "<style scoped>\n",
       "    .dataframe tbody tr th:only-of-type {\n",
       "        vertical-align: middle;\n",
       "    }\n",
       "\n",
       "    .dataframe tbody tr th {\n",
       "        vertical-align: top;\n",
       "    }\n",
       "\n",
       "    .dataframe thead th {\n",
       "        text-align: right;\n",
       "    }\n",
       "</style>\n",
       "<table border=\"1\" class=\"dataframe\">\n",
       "  <thead>\n",
       "    <tr style=\"text-align: right;\">\n",
       "      <th></th>\n",
       "      <th>Item_ID</th>\n",
       "      <th>Item_Name</th>\n",
       "      <th>Category</th>\n",
       "      <th>Date</th>\n",
       "      <th>Last_Month_Sales</th>\n",
       "      <th>Capacity</th>\n",
       "      <th>Last_Year_Sales</th>\n",
       "      <th>Temperature</th>\n",
       "      <th>Weather</th>\n",
       "      <th>Predicted_Sales</th>\n",
       "      <th>City_Tier</th>\n",
       "      <th>On_promotion</th>\n",
       "      <th>Outlet</th>\n",
       "    </tr>\n",
       "  </thead>\n",
       "  <tbody>\n",
       "    <tr>\n",
       "      <th>0</th>\n",
       "      <td>1</td>\n",
       "      <td>Lassi</td>\n",
       "      <td>Dairy</td>\n",
       "      <td>9-28-2023</td>\n",
       "      <td>82</td>\n",
       "      <td>109</td>\n",
       "      <td>1077</td>\n",
       "      <td>47</td>\n",
       "      <td>Sunny</td>\n",
       "      <td>81</td>\n",
       "      <td>2</td>\n",
       "      <td>0</td>\n",
       "      <td>1</td>\n",
       "    </tr>\n",
       "    <tr>\n",
       "      <th>1</th>\n",
       "      <td>1</td>\n",
       "      <td>Lassi</td>\n",
       "      <td>Dairy</td>\n",
       "      <td>9-28-2023</td>\n",
       "      <td>82</td>\n",
       "      <td>99</td>\n",
       "      <td>1068</td>\n",
       "      <td>46</td>\n",
       "      <td>Sunny</td>\n",
       "      <td>70</td>\n",
       "      <td>2</td>\n",
       "      <td>1</td>\n",
       "      <td>3</td>\n",
       "    </tr>\n",
       "    <tr>\n",
       "      <th>2</th>\n",
       "      <td>1</td>\n",
       "      <td>Lassi</td>\n",
       "      <td>Dairy</td>\n",
       "      <td>8-22-2023</td>\n",
       "      <td>71</td>\n",
       "      <td>99</td>\n",
       "      <td>1068</td>\n",
       "      <td>44</td>\n",
       "      <td>Rainy</td>\n",
       "      <td>69</td>\n",
       "      <td>1</td>\n",
       "      <td>1</td>\n",
       "      <td>2</td>\n",
       "    </tr>\n",
       "    <tr>\n",
       "      <th>3</th>\n",
       "      <td>1</td>\n",
       "      <td>Lassi</td>\n",
       "      <td>Dairy</td>\n",
       "      <td>8-22-2022</td>\n",
       "      <td>71</td>\n",
       "      <td>99</td>\n",
       "      <td>1068</td>\n",
       "      <td>41</td>\n",
       "      <td>Winter</td>\n",
       "      <td>70</td>\n",
       "      <td>1</td>\n",
       "      <td>1</td>\n",
       "      <td>2</td>\n",
       "    </tr>\n",
       "    <tr>\n",
       "      <th>4</th>\n",
       "      <td>1</td>\n",
       "      <td>Lassi</td>\n",
       "      <td>Dairy</td>\n",
       "      <td>8-18-2023</td>\n",
       "      <td>71</td>\n",
       "      <td>99</td>\n",
       "      <td>1068</td>\n",
       "      <td>33</td>\n",
       "      <td>Winter</td>\n",
       "      <td>70</td>\n",
       "      <td>2</td>\n",
       "      <td>1</td>\n",
       "      <td>2</td>\n",
       "    </tr>\n",
       "    <tr>\n",
       "      <th>...</th>\n",
       "      <td>...</td>\n",
       "      <td>...</td>\n",
       "      <td>...</td>\n",
       "      <td>...</td>\n",
       "      <td>...</td>\n",
       "      <td>...</td>\n",
       "      <td>...</td>\n",
       "      <td>...</td>\n",
       "      <td>...</td>\n",
       "      <td>...</td>\n",
       "      <td>...</td>\n",
       "      <td>...</td>\n",
       "      <td>...</td>\n",
       "    </tr>\n",
       "    <tr>\n",
       "      <th>12994</th>\n",
       "      <td>39</td>\n",
       "      <td>Olive Oil</td>\n",
       "      <td>Oils</td>\n",
       "      <td>18-01-2019</td>\n",
       "      <td>66</td>\n",
       "      <td>99</td>\n",
       "      <td>1062</td>\n",
       "      <td>52</td>\n",
       "      <td>Rainy</td>\n",
       "      <td>68</td>\n",
       "      <td>1</td>\n",
       "      <td>1</td>\n",
       "      <td>1</td>\n",
       "    </tr>\n",
       "    <tr>\n",
       "      <th>12995</th>\n",
       "      <td>39</td>\n",
       "      <td>Olive Oil</td>\n",
       "      <td>Oils</td>\n",
       "      <td>16-01-2019</td>\n",
       "      <td>74</td>\n",
       "      <td>99</td>\n",
       "      <td>1066</td>\n",
       "      <td>42</td>\n",
       "      <td>Sunny</td>\n",
       "      <td>82</td>\n",
       "      <td>1</td>\n",
       "      <td>0</td>\n",
       "      <td>1</td>\n",
       "    </tr>\n",
       "    <tr>\n",
       "      <th>12996</th>\n",
       "      <td>39</td>\n",
       "      <td>Olive Oil</td>\n",
       "      <td>Oils</td>\n",
       "      <td>15-01-2019</td>\n",
       "      <td>70</td>\n",
       "      <td>109</td>\n",
       "      <td>1079</td>\n",
       "      <td>39</td>\n",
       "      <td>Winter</td>\n",
       "      <td>72</td>\n",
       "      <td>1</td>\n",
       "      <td>1</td>\n",
       "      <td>1</td>\n",
       "    </tr>\n",
       "    <tr>\n",
       "      <th>12997</th>\n",
       "      <td>39</td>\n",
       "      <td>Olive Oil</td>\n",
       "      <td>Oils</td>\n",
       "      <td>15-01-2019</td>\n",
       "      <td>88</td>\n",
       "      <td>99</td>\n",
       "      <td>1077</td>\n",
       "      <td>38</td>\n",
       "      <td>Autumn</td>\n",
       "      <td>75</td>\n",
       "      <td>2</td>\n",
       "      <td>0</td>\n",
       "      <td>1</td>\n",
       "    </tr>\n",
       "    <tr>\n",
       "      <th>12998</th>\n",
       "      <td>39</td>\n",
       "      <td>Olive Oil</td>\n",
       "      <td>Oils</td>\n",
       "      <td>04-01-2019</td>\n",
       "      <td>64</td>\n",
       "      <td>109</td>\n",
       "      <td>1069</td>\n",
       "      <td>45</td>\n",
       "      <td>Rainy</td>\n",
       "      <td>68</td>\n",
       "      <td>2</td>\n",
       "      <td>0</td>\n",
       "      <td>2</td>\n",
       "    </tr>\n",
       "  </tbody>\n",
       "</table>\n",
       "<p>12999 rows × 13 columns</p>\n",
       "</div>"
      ],
      "text/plain": [
       "       Item_ID  Item_Name Category        Date  Last_Month_Sales  Capacity  \\\n",
       "0            1      Lassi    Dairy   9-28-2023                82       109   \n",
       "1            1      Lassi    Dairy   9-28-2023                82        99   \n",
       "2            1      Lassi    Dairy   8-22-2023                71        99   \n",
       "3            1      Lassi    Dairy   8-22-2022                71        99   \n",
       "4            1      Lassi    Dairy   8-18-2023                71        99   \n",
       "...        ...        ...      ...         ...               ...       ...   \n",
       "12994       39  Olive Oil     Oils  18-01-2019                66        99   \n",
       "12995       39  Olive Oil     Oils  16-01-2019                74        99   \n",
       "12996       39  Olive Oil     Oils  15-01-2019                70       109   \n",
       "12997       39  Olive Oil     Oils  15-01-2019                88        99   \n",
       "12998       39  Olive Oil     Oils  04-01-2019                64       109   \n",
       "\n",
       "       Last_Year_Sales  Temperature Weather  Predicted_Sales  City_Tier  \\\n",
       "0                 1077           47   Sunny               81          2   \n",
       "1                 1068           46   Sunny               70          2   \n",
       "2                 1068           44   Rainy               69          1   \n",
       "3                 1068           41  Winter               70          1   \n",
       "4                 1068           33  Winter               70          2   \n",
       "...                ...          ...     ...              ...        ...   \n",
       "12994             1062           52   Rainy               68          1   \n",
       "12995             1066           42   Sunny               82          1   \n",
       "12996             1079           39  Winter               72          1   \n",
       "12997             1077           38  Autumn               75          2   \n",
       "12998             1069           45   Rainy               68          2   \n",
       "\n",
       "       On_promotion  Outlet  \n",
       "0                 0       1  \n",
       "1                 1       3  \n",
       "2                 1       2  \n",
       "3                 1       2  \n",
       "4                 1       2  \n",
       "...             ...     ...  \n",
       "12994             1       1  \n",
       "12995             0       1  \n",
       "12996             1       1  \n",
       "12997             0       1  \n",
       "12998             0       2  \n",
       "\n",
       "[12999 rows x 13 columns]"
      ]
     },
     "execution_count": 8,
     "metadata": {},
     "output_type": "execute_result"
    }
   ],
   "source": [
    "df_original"
   ]
  },
  {
   "cell_type": "code",
   "execution_count": 9,
   "id": "c6b00258-3f83-4065-a705-fe0766ea23c5",
   "metadata": {
    "tags": []
   },
   "outputs": [],
   "source": [
    "# Keeping the Item_ID for later use\n",
    "item_ids = df['Item_ID'].values"
   ]
  },
  {
   "cell_type": "code",
   "execution_count": 10,
   "id": "5f4d17e2-0b64-43b0-8b1b-4acbed333b81",
   "metadata": {
    "tags": []
   },
   "outputs": [
    {
     "data": {
      "text/plain": [
       "array([ 1,  1,  1, ..., 39, 39, 39], dtype=int64)"
      ]
     },
     "execution_count": 10,
     "metadata": {},
     "output_type": "execute_result"
    }
   ],
   "source": [
    "item_ids"
   ]
  },
  {
   "cell_type": "code",
   "execution_count": 11,
   "id": "50ac2798-e5d3-4b26-aa20-29d12543a995",
   "metadata": {
    "tags": []
   },
   "outputs": [],
   "source": [
    "# One-hot encoding\n",
    "categorical_cols = ['Item_Name', 'Category', 'Weather']\n",
    "df = pd.get_dummies(df, columns=categorical_cols, drop_first=True)"
   ]
  },
  {
   "cell_type": "code",
   "execution_count": null,
   "id": "5be8c6c2-a537-4d5b-930c-11dcde9015b6",
   "metadata": {
    "tags": []
   },
   "outputs": [],
   "source": [
    "\n"
   ]
  },
  {
   "cell_type": "code",
   "execution_count": 12,
   "id": "b1dd0471-83f4-4dc2-ba4f-12baa92c79f3",
   "metadata": {
    "tags": []
   },
   "outputs": [],
   "source": [
    "# The target variable is the actual sales values\n",
    "y = df['Predicted_Sales'].values\n",
    "df.drop(columns=['Item_ID', 'Date', 'Predicted_Sales'], inplace=True)"
   ]
  },
  {
   "cell_type": "code",
   "execution_count": 13,
   "id": "1d003f67-5b56-4018-9d71-562d8b4cddb4",
   "metadata": {
    "tags": []
   },
   "outputs": [],
   "source": [
    "X = df.values"
   ]
  },
  {
   "cell_type": "code",
   "execution_count": 14,
   "id": "7683fa5b-1c3c-4935-a4f0-d720ae8d61f4",
   "metadata": {
    "tags": []
   },
   "outputs": [
    {
     "data": {
      "text/plain": [
       "(12999, 52)"
      ]
     },
     "execution_count": 14,
     "metadata": {},
     "output_type": "execute_result"
    }
   ],
   "source": [
    "X.shape"
   ]
  },
  {
   "cell_type": "code",
   "execution_count": 15,
   "id": "d2723cb9-0bed-4630-8fd9-ed107c798f4f",
   "metadata": {
    "tags": []
   },
   "outputs": [
    {
     "data": {
      "text/plain": [
       "array([[82, 109, 1077, ..., False, True, False],\n",
       "       [82, 99, 1068, ..., False, True, False],\n",
       "       [71, 99, 1068, ..., True, False, False],\n",
       "       ...,\n",
       "       [70, 109, 1079, ..., False, False, True],\n",
       "       [88, 99, 1077, ..., False, False, False],\n",
       "       [64, 109, 1069, ..., True, False, False]], dtype=object)"
      ]
     },
     "execution_count": 15,
     "metadata": {},
     "output_type": "execute_result"
    }
   ],
   "source": [
    "X #main train data, one hot encoded."
   ]
  },
  {
   "cell_type": "code",
   "execution_count": 16,
   "id": "b8e93ce0-a501-40c5-be1a-2707d8fb764b",
   "metadata": {
    "tags": []
   },
   "outputs": [
    {
     "data": {
      "text/plain": [
       "array([81, 70, 69, ..., 72, 75, 68], dtype=int64)"
      ]
     },
     "execution_count": 16,
     "metadata": {},
     "output_type": "execute_result"
    }
   ],
   "source": [
    "y #target column/variable that you need to keep separate so model understands "
   ]
  },
  {
   "cell_type": "code",
   "execution_count": null,
   "id": "6c044eac-8270-4be2-bf4d-07d0989b37f8",
   "metadata": {},
   "outputs": [],
   "source": []
  },
  {
   "cell_type": "code",
   "execution_count": 17,
   "id": "8d95a46d-e100-4f65-91e7-f4244a125675",
   "metadata": {
    "tags": []
   },
   "outputs": [],
   "source": [
    "from sklearn.preprocessing import MinMaxScaler\n",
    "# Scaling the features\n",
    "scaler_X = MinMaxScaler()\n",
    "X = scaler_X.fit_transform(X)"
   ]
  },
  {
   "cell_type": "code",
   "execution_count": 18,
   "id": "0e954dad-a936-4a48-bf9e-3ad0fde6986d",
   "metadata": {
    "tags": []
   },
   "outputs": [
    {
     "data": {
      "text/plain": [
       "array([[0.73684211, 0.90789474, 0.75555556, ..., 0.        , 1.        ,\n",
       "        0.        ],\n",
       "       [0.73684211, 0.77631579, 0.65555556, ..., 0.        , 1.        ,\n",
       "        0.        ],\n",
       "       [0.62105263, 0.77631579, 0.65555556, ..., 1.        , 0.        ,\n",
       "        0.        ],\n",
       "       ...,\n",
       "       [0.61052632, 0.90789474, 0.77777778, ..., 0.        , 0.        ,\n",
       "        1.        ],\n",
       "       [0.8       , 0.77631579, 0.75555556, ..., 0.        , 0.        ,\n",
       "        0.        ],\n",
       "       [0.54736842, 0.90789474, 0.66666667, ..., 1.        , 0.        ,\n",
       "        0.        ]])"
      ]
     },
     "execution_count": 18,
     "metadata": {},
     "output_type": "execute_result"
    }
   ],
   "source": [
    "X"
   ]
  },
  {
   "cell_type": "code",
   "execution_count": 19,
   "id": "e04f85da-9cff-4863-99dd-99844185c84b",
   "metadata": {
    "tags": []
   },
   "outputs": [],
   "source": [
    "# Scaling the target\n",
    "scaler_y = MinMaxScaler()\n",
    "y = scaler_y.fit_transform(y.reshape(-1, 1))"
   ]
  },
  {
   "cell_type": "code",
   "execution_count": 20,
   "id": "8a60baf8-33b4-4691-97a9-a6a91a1c9119",
   "metadata": {
    "tags": []
   },
   "outputs": [
    {
     "data": {
      "text/plain": [
       "array([[0.75      ],\n",
       "       [0.63541667],\n",
       "       [0.625     ],\n",
       "       ...,\n",
       "       [0.65625   ],\n",
       "       [0.6875    ],\n",
       "       [0.61458333]])"
      ]
     },
     "execution_count": 20,
     "metadata": {},
     "output_type": "execute_result"
    }
   ],
   "source": [
    "y"
   ]
  },
  {
   "cell_type": "code",
   "execution_count": 21,
   "id": "b9a6bcc9-ed70-4dbf-9e83-c81fe01901da",
   "metadata": {
    "tags": []
   },
   "outputs": [],
   "source": [
    "# Train-validation split\n",
    "X_train, X_val, y_train, y_val = train_test_split(X, y, test_size=0.10, random_state=42)"
   ]
  },
  {
   "cell_type": "code",
   "execution_count": 22,
   "id": "e8c377d1-77cf-40a8-a787-77a00218398a",
   "metadata": {
    "tags": []
   },
   "outputs": [],
   "source": [
    "from sklearn.linear_model import LinearRegression\n",
    "reg = LinearRegression()"
   ]
  },
  {
   "cell_type": "code",
   "execution_count": 23,
   "id": "b24c2b85-5d4c-472a-ac61-ea88cec6c9ea",
   "metadata": {
    "tags": []
   },
   "outputs": [
    {
     "data": {
      "text/html": [
       "<style>#sk-container-id-1 {color: black;background-color: white;}#sk-container-id-1 pre{padding: 0;}#sk-container-id-1 div.sk-toggleable {background-color: white;}#sk-container-id-1 label.sk-toggleable__label {cursor: pointer;display: block;width: 100%;margin-bottom: 0;padding: 0.3em;box-sizing: border-box;text-align: center;}#sk-container-id-1 label.sk-toggleable__label-arrow:before {content: \"▸\";float: left;margin-right: 0.25em;color: #696969;}#sk-container-id-1 label.sk-toggleable__label-arrow:hover:before {color: black;}#sk-container-id-1 div.sk-estimator:hover label.sk-toggleable__label-arrow:before {color: black;}#sk-container-id-1 div.sk-toggleable__content {max-height: 0;max-width: 0;overflow: hidden;text-align: left;background-color: #f0f8ff;}#sk-container-id-1 div.sk-toggleable__content pre {margin: 0.2em;color: black;border-radius: 0.25em;background-color: #f0f8ff;}#sk-container-id-1 input.sk-toggleable__control:checked~div.sk-toggleable__content {max-height: 200px;max-width: 100%;overflow: auto;}#sk-container-id-1 input.sk-toggleable__control:checked~label.sk-toggleable__label-arrow:before {content: \"▾\";}#sk-container-id-1 div.sk-estimator input.sk-toggleable__control:checked~label.sk-toggleable__label {background-color: #d4ebff;}#sk-container-id-1 div.sk-label input.sk-toggleable__control:checked~label.sk-toggleable__label {background-color: #d4ebff;}#sk-container-id-1 input.sk-hidden--visually {border: 0;clip: rect(1px 1px 1px 1px);clip: rect(1px, 1px, 1px, 1px);height: 1px;margin: -1px;overflow: hidden;padding: 0;position: absolute;width: 1px;}#sk-container-id-1 div.sk-estimator {font-family: monospace;background-color: #f0f8ff;border: 1px dotted black;border-radius: 0.25em;box-sizing: border-box;margin-bottom: 0.5em;}#sk-container-id-1 div.sk-estimator:hover {background-color: #d4ebff;}#sk-container-id-1 div.sk-parallel-item::after {content: \"\";width: 100%;border-bottom: 1px solid gray;flex-grow: 1;}#sk-container-id-1 div.sk-label:hover label.sk-toggleable__label {background-color: #d4ebff;}#sk-container-id-1 div.sk-serial::before {content: \"\";position: absolute;border-left: 1px solid gray;box-sizing: border-box;top: 0;bottom: 0;left: 50%;z-index: 0;}#sk-container-id-1 div.sk-serial {display: flex;flex-direction: column;align-items: center;background-color: white;padding-right: 0.2em;padding-left: 0.2em;position: relative;}#sk-container-id-1 div.sk-item {position: relative;z-index: 1;}#sk-container-id-1 div.sk-parallel {display: flex;align-items: stretch;justify-content: center;background-color: white;position: relative;}#sk-container-id-1 div.sk-item::before, #sk-container-id-1 div.sk-parallel-item::before {content: \"\";position: absolute;border-left: 1px solid gray;box-sizing: border-box;top: 0;bottom: 0;left: 50%;z-index: -1;}#sk-container-id-1 div.sk-parallel-item {display: flex;flex-direction: column;z-index: 1;position: relative;background-color: white;}#sk-container-id-1 div.sk-parallel-item:first-child::after {align-self: flex-end;width: 50%;}#sk-container-id-1 div.sk-parallel-item:last-child::after {align-self: flex-start;width: 50%;}#sk-container-id-1 div.sk-parallel-item:only-child::after {width: 0;}#sk-container-id-1 div.sk-dashed-wrapped {border: 1px dashed gray;margin: 0 0.4em 0.5em 0.4em;box-sizing: border-box;padding-bottom: 0.4em;background-color: white;}#sk-container-id-1 div.sk-label label {font-family: monospace;font-weight: bold;display: inline-block;line-height: 1.2em;}#sk-container-id-1 div.sk-label-container {text-align: center;}#sk-container-id-1 div.sk-container {/* jupyter's `normalize.less` sets `[hidden] { display: none; }` but bootstrap.min.css set `[hidden] { display: none !important; }` so we also need the `!important` here to be able to override the default hidden behavior on the sphinx rendered scikit-learn.org. See: https://github.com/scikit-learn/scikit-learn/issues/21755 */display: inline-block !important;position: relative;}#sk-container-id-1 div.sk-text-repr-fallback {display: none;}</style><div id=\"sk-container-id-1\" class=\"sk-top-container\"><div class=\"sk-text-repr-fallback\"><pre>LinearRegression()</pre><b>In a Jupyter environment, please rerun this cell to show the HTML representation or trust the notebook. <br />On GitHub, the HTML representation is unable to render, please try loading this page with nbviewer.org.</b></div><div class=\"sk-container\" hidden><div class=\"sk-item\"><div class=\"sk-estimator sk-toggleable\"><input class=\"sk-toggleable__control sk-hidden--visually\" id=\"sk-estimator-id-1\" type=\"checkbox\" checked><label for=\"sk-estimator-id-1\" class=\"sk-toggleable__label sk-toggleable__label-arrow\">LinearRegression</label><div class=\"sk-toggleable__content\"><pre>LinearRegression()</pre></div></div></div></div></div>"
      ],
      "text/plain": [
       "LinearRegression()"
      ]
     },
     "execution_count": 23,
     "metadata": {},
     "output_type": "execute_result"
    }
   ],
   "source": [
    "reg.fit(X_val,y_val)"
   ]
  },
  {
   "cell_type": "code",
   "execution_count": 24,
   "id": "9bc8cbfb-71a8-4deb-a99e-78e790b7a896",
   "metadata": {
    "tags": []
   },
   "outputs": [
    {
     "data": {
      "text/plain": [
       "0.14194909082163232"
      ]
     },
     "execution_count": 24,
     "metadata": {},
     "output_type": "execute_result"
    }
   ],
   "source": [
    "reg.score(X_val,y_val)"
   ]
  },
  {
   "cell_type": "code",
   "execution_count": 25,
   "id": "9afe1767-e769-4cd9-9704-8dc7b3d9c646",
   "metadata": {
    "tags": []
   },
   "outputs": [],
   "source": [
    "y_pred = reg.predict(X_val)"
   ]
  },
  {
   "cell_type": "markdown",
   "id": "32c7c71b-66c3-42aa-9e4e-1a741889602f",
   "metadata": {},
   "source": [
    "1. (R-squared)\n",
    "R-squared measures the proportion of the variance in the dependent variable that is predictable from the independent variables. It is a statistical measure of how close the data are to the fitted regression line. and is often expressed as a percentage and is interpreted as the percentage of the response variable variation that is explained by a linear model. score of 1 indicates that the regression predictions perfectly fit the data.\n",
    "\n",
    "2. RMSE (Root Mean Squared Error)\n",
    "Root Mean Squared Error (RMSE) is the square root of the mean of the squared differences between the predicted and actual values. It measures the standard deviation of the residuals (prediction errors). RMSE is a good measure of how accurately the model predicts the response, and it is the most easily interpretable when compared to the original units of the dependent variable.\n",
    "\n",
    "3. MAE (Mean Absolute Error)\n",
    "Mean Absolute Error (MAE) is the average of the absolute differences between the predicted values and actual values. It measures how far predicted values from a model are from the actual values. Unlike RMSE, MAE gives a linear score, which means all the individual differences are weighted equally. It is less sensitive to outliers than RMSE."
   ]
  },
  {
   "cell_type": "code",
   "execution_count": 26,
   "id": "be842eb1-ce60-4cc7-aa1c-f3fdd8238293",
   "metadata": {
    "tags": []
   },
   "outputs": [],
   "source": [
    "# Calculate evaluation metrics for Gradient Boosting Regressor\n",
    "mae_reg = mean_absolute_error(y_val, y_pred)\n",
    "mse_reg = mean_squared_error(y_val, y_pred)\n",
    "r2_reg = r2_score(y_val, y_pred)"
   ]
  },
  {
   "cell_type": "code",
   "execution_count": 27,
   "id": "ccc3dbad-68f2-4c6a-be43-46705f634d7f",
   "metadata": {
    "tags": []
   },
   "outputs": [
    {
     "name": "stdout",
     "output_type": "stream",
     "text": [
      "Linear Regression Metrics:\n",
      "Mean Absolute Error (MAE): 0.06330887623322315\n",
      "Mean Squared Error (MSE): 0.006790664722112158\n",
      "R^2 Score: 0.14194909082163232\n"
     ]
    }
   ],
   "source": [
    "print(\"Linear Regression Metrics:\")\n",
    "print(\"Mean Absolute Error (MAE):\", mae_reg)\n",
    "print(\"Mean Squared Error (MSE):\", mse_reg)\n",
    "print(\"R^2 Score:\", r2_reg)"
   ]
  },
  {
   "cell_type": "markdown",
   "id": "51fcbb07-64e5-4191-bdca-9fd367da0765",
   "metadata": {},
   "source": [
    "Residuals in a statistical or machine learning model are the differences between observed and predicted values of data. They are a diagnostic measure used when assessing the quality of a model. They are also known as errors."
   ]
  },
  {
   "cell_type": "markdown",
   "id": "095b8a1c-7679-4999-83f6-87cc438830d0",
   "metadata": {
    "tags": []
   },
   "source": [
    "Residual plot analysis is used to assess the validity of linear regression models by plotting the residuals and checking whether the assumptions of linear regression models are met. The most important assumption of a linear regression model is that the error terms or residuals are independent and normally distributed."
   ]
  },
  {
   "cell_type": "code",
   "execution_count": null,
   "id": "d9b3d028-0175-48e5-9b23-1aefd9e883fd",
   "metadata": {},
   "outputs": [],
   "source": []
  },
  {
   "cell_type": "code",
   "execution_count": null,
   "id": "524dc9bf-5a03-4df5-8e1b-79084135f7c7",
   "metadata": {},
   "outputs": [],
   "source": []
  },
  {
   "cell_type": "code",
   "execution_count": null,
   "id": "89cdac92-e279-409d-a610-6de5fbad7c88",
   "metadata": {},
   "outputs": [],
   "source": []
  },
  {
   "cell_type": "code",
   "execution_count": null,
   "id": "1a9d1057-4fdd-4450-aff0-bb8b435f6b05",
   "metadata": {},
   "outputs": [],
   "source": []
  }
 ],
 "metadata": {
  "kernelspec": {
   "display_name": "Python 3 (ipykernel)",
   "language": "python",
   "name": "python3"
  },
  "language_info": {
   "codemirror_mode": {
    "name": "ipython",
    "version": 3
   },
   "file_extension": ".py",
   "mimetype": "text/x-python",
   "name": "python",
   "nbconvert_exporter": "python",
   "pygments_lexer": "ipython3",
   "version": "3.11.7"
  }
 },
 "nbformat": 4,
 "nbformat_minor": 5
}
